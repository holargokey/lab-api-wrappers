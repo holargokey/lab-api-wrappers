{
 "cells": [
  {
   "cell_type": "markdown",
   "id": "bd0a3905-b346-43d5-9791-d3869299eb9d",
   "metadata": {},
   "source": [
    "# API wrappers"
   ]
  },
  {
   "cell_type": "markdown",
   "id": "327b4075-5374-4ecf-b8c5-c106d20d80e1",
   "metadata": {},
   "source": [
    "The OpenWeatherMap offers REST endpoints for querying current weather, forecasts, historical data, etc. However, accessing this data directly via the REST API requires handling multiple API calls, query parameters, and response parsing. The pyowm library abstracts these complexities and provides useful built-in functionalities."
   ]
  },
  {
   "cell_type": "markdown",
   "id": "1d731d49-fd79-44c8-8f72-68194c99fec0",
   "metadata": {},
   "source": [
    "After signing in to OpenWeatherMap retrieve your api key at https://home.openweathermap.org/api_keys\n",
    "\n",
    "You will also need to install the pyowm package: pip install pyowm "
   ]
  },
  {
   "cell_type": "code",
   "execution_count": 20,
   "id": "63b327b1-338b-4b14-a5b5-1bd8741da64b",
   "metadata": {},
   "outputs": [],
   "source": [
    "import requests\n",
    "import pyown\n",
    "import json\n",
    "import getpass"
   ]
  },
  {
   "cell_type": "code",
   "execution_count": 198,
   "id": "984404f9-dd8e-4ab2-b4b7-69121eb982fa",
   "metadata": {},
   "outputs": [
    {
     "name": "stdin",
     "output_type": "stream",
     "text": [
      "Input your token ········\n"
     ]
    }
   ],
   "source": [
    "api_key = getpass.getpass(\"Input your token\")"
   ]
  },
  {
   "cell_type": "markdown",
   "id": "f73d3029-c6a6-43b9-81a9-0e81c13bdf09",
   "metadata": {},
   "source": [
    "## use case 1: managing API keys\n",
    "\n",
    "In a raw rest API call you always have to manage credentials in each individual call. Wrappers usually store and manage the authentication for you"
   ]
  },
  {
   "cell_type": "code",
   "execution_count": 166,
   "id": "afbcdf71-845e-4aae-b8cc-8963745f7d4b",
   "metadata": {},
   "outputs": [
    {
     "data": {
      "text/plain": [
       "{'coord': {'lon': -0.1257, 'lat': 51.5085},\n",
       " 'weather': [{'id': 701,\n",
       "   'main': 'Mist',\n",
       "   'description': 'mist',\n",
       "   'icon': '50d'}],\n",
       " 'base': 'stations',\n",
       " 'main': {'temp': 278.14,\n",
       "  'feels_like': 274.93,\n",
       "  'temp_min': 277.32,\n",
       "  'temp_max': 279.27,\n",
       "  'pressure': 1029,\n",
       "  'humidity': 95,\n",
       "  'sea_level': 1029,\n",
       "  'grnd_level': 1024},\n",
       " 'visibility': 4400,\n",
       " 'wind': {'speed': 4.12, 'deg': 230},\n",
       " 'clouds': {'all': 100},\n",
       " 'dt': 1735486520,\n",
       " 'sys': {'type': 2,\n",
       "  'id': 2075535,\n",
       "  'country': 'GB',\n",
       "  'sunrise': 1735459572,\n",
       "  'sunset': 1735487934},\n",
       " 'timezone': 0,\n",
       " 'id': 2643743,\n",
       " 'name': 'London',\n",
       " 'cod': 200}"
      ]
     },
     "execution_count": 166,
     "metadata": {},
     "output_type": "execute_result"
    }
   ],
   "source": [
    "#You can get current weather data by making a GET request to an endpoint like:\n",
    "\n",
    "params = {\n",
    "    'appid' : access\n",
    "}\n",
    "\n",
    "response = requests.get('https://api.openweathermap.org/data/2.5/weather?q=London', params = params)\n",
    "\n",
    "json.loads(response.text)\n",
    "\n",
    "#but for every call you make using GET from now on you do need to add the parameters, since the raw API does not manage authentication for you"
   ]
  },
  {
   "cell_type": "markdown",
   "id": "b82c585b-fd83-4f59-9d46-14225f3e5037",
   "metadata": {},
   "source": [
    "Most wrappers (pyowm included) include some way of initializing a session with the authentication key that you then don't need to type again.\n",
    "\n",
    "Initialize pyowm with the default configuration. Thenopen the weather manager\n",
    "\n",
    "Check out a snippet here: https://pyowm.readthedocs.io/en/latest/v3/code-recipes.html#weather_data"
   ]
  },
  {
   "cell_type": "code",
   "execution_count": 30,
   "id": "814c76b9-bf32-439f-b60d-e1bd855a5064",
   "metadata": {},
   "outputs": [
    {
     "name": "stdout",
     "output_type": "stream",
     "text": [
      "Requirement already satisfied: pyowm in c:\\users\\somoy\\anaconda3\\lib\\site-packages (3.3.0)\n",
      "Requirement already satisfied: requests<3,>=2.20.0 in c:\\users\\somoy\\anaconda3\\lib\\site-packages (from pyowm) (2.31.0)\n",
      "Requirement already satisfied: geojson<3,>=2.3.0 in c:\\users\\somoy\\anaconda3\\lib\\site-packages (from pyowm) (2.5.0)\n",
      "Requirement already satisfied: PySocks<2,>=1.7.1 in c:\\users\\somoy\\anaconda3\\lib\\site-packages (from pyowm) (1.7.1)\n",
      "Requirement already satisfied: charset-normalizer<4,>=2 in c:\\users\\somoy\\anaconda3\\lib\\site-packages (from requests<3,>=2.20.0->pyowm) (2.0.4)\n",
      "Requirement already satisfied: idna<4,>=2.5 in c:\\users\\somoy\\anaconda3\\lib\\site-packages (from requests<3,>=2.20.0->pyowm) (3.4)\n",
      "Requirement already satisfied: urllib3<3,>=1.21.1 in c:\\users\\somoy\\anaconda3\\lib\\site-packages (from requests<3,>=2.20.0->pyowm) (1.26.16)\n",
      "Requirement already satisfied: certifi>=2017.4.17 in c:\\users\\somoy\\anaconda3\\lib\\site-packages (from requests<3,>=2.20.0->pyowm) (2024.8.30)\n"
     ]
    }
   ],
   "source": [
    "!pip install pyowm"
   ]
  },
  {
   "cell_type": "code",
   "execution_count": 34,
   "id": "f376d466-5a69-4a47-b35d-1870cbef61ff",
   "metadata": {},
   "outputs": [],
   "source": [
    "#using an open weather map API wrapper \n",
    "from pyowm.owm import OWM\n",
    "owm = OWM(api_key)\n",
    "weather_mgr = owm.weather_manager()"
   ]
  },
  {
   "cell_type": "markdown",
   "id": "840060e4-d3de-4b96-bb03-5bce02003f1d",
   "metadata": {},
   "source": [
    "## use case 2: Simplified calls\n",
    "\n",
    "With the raw REST API, you'd have to build a URL manually, send the request, and parse the JSON response to get the current weather."
   ]
  },
  {
   "cell_type": "code",
   "execution_count": 90,
   "id": "a2aa8395-0bed-4098-8881-0ffe93541b1f",
   "metadata": {},
   "outputs": [
    {
     "name": "stdout",
     "output_type": "stream",
     "text": [
      "Temperature: 4.39°C, Humidity: 94%, Wind Speed: 4.12 m/s\n"
     ]
    }
   ],
   "source": [
    "#Using an open weather map RAW REST API\n",
    "city = 'London'\n",
    "url = f'http://api.openweathermap.org/data/2.5/weather?q={city}'\n",
    "params = {\n",
    "    'appid': api_key,\n",
    "    'units': 'metric' } # Use 'metric' to get temperature in Celsius\n",
    "response = requests.get(url,params= params)\n",
    "data = response.json()\n",
    "temperature = data['main']['temp']\n",
    "humidity = data['main']['humidity']\n",
    "wind_speed = data['wind']['speed']\n",
    "\n",
    "print(f\"Temperature: {temperature}°C, Humidity: {humidity}%, Wind Speed: {wind_speed} m/s\")"
   ]
  },
  {
   "cell_type": "markdown",
   "id": "df5bc6df-bfb2-416d-8d06-3961d3a12234",
   "metadata": {},
   "source": [
    "Get the equivalent call as above for the city of London using the pyowm package"
   ]
  },
  {
   "cell_type": "code",
   "execution_count": 94,
   "id": "d1986770-4628-480b-b587-9ff5c42d301c",
   "metadata": {},
   "outputs": [
    {
     "name": "stdout",
     "output_type": "stream",
     "text": [
      "Temperature: 4.5°C, Humidity: 94%, Wind Speed: 4.12 m/s\n"
     ]
    }
   ],
   "source": [
    "#using an open weather map API wrapper \n",
    "from pyowm.owm import OWM\n",
    "owm = OWM(api_key)\n",
    "weather_mgr = owm.weather_manager()\n",
    "London = weather_mgr.weather_at_place(\"London,GB\")\n",
    "London_weather = London.weather\n",
    "temp = London_weather.temperature(\"celsius\")\n",
    "Temperature_02 =temp[\"temp\"]\n",
    "wind = London_weather.wind()\n",
    "wind_speed_02 = wind[\"speed\"]\n",
    "humid_02 = London_weather.humidity\n",
    "print(f\"Temperature: {Temperature_02}°C, Humidity: {humid_02}%, Wind Speed: {wind_speed_02} m/s\")"
   ]
  },
  {
   "cell_type": "markdown",
   "id": "7e7b93b2-c383-4e49-8fce-a0923ac59031",
   "metadata": {},
   "source": [
    "## use case 3: Combining and chaining calls\n",
    "\n",
    "Wrappers often offer methods that make multiple calls to batch requests that make sense to batch. And often they offer methods that make sequences of calls that each returns information necessary to make the next call."
   ]
  },
  {
   "cell_type": "markdown",
   "id": "8f4a6b6c-f397-48ce-a3ef-f88e1fb95eb9",
   "metadata": {},
   "source": [
    "For example, to get a weather forecast for a specific city using the raw API you need to first geocode the city to get its latitude and longitude:"
   ]
  },
  {
   "cell_type": "code",
   "execution_count": 168,
   "id": "d182cf31-80f8-4b61-8de0-897d2d6479d7",
   "metadata": {},
   "outputs": [],
   "source": [
    "city = 'New York'\n",
    "geocode_url = f'http://api.openweathermap.org/data/2.5/weather?q={city}'\n",
    "geocode_response = requests.get(geocode_url,params=params).json()\n",
    "\n",
    "lat = geocode_response['coord']['lat']\n",
    "lon = geocode_response['coord']['lon']"
   ]
  },
  {
   "cell_type": "markdown",
   "id": "547c5deb-1070-4b72-b035-32ea5a615eda",
   "metadata": {},
   "source": [
    "Then, request the weather forecast for that latitude/longitude:"
   ]
  },
  {
   "cell_type": "code",
   "execution_count": 220,
   "id": "03737eff-cbc6-412f-b6a1-03e28b39b1e4",
   "metadata": {},
   "outputs": [
    {
     "name": "stdout",
     "output_type": "stream",
     "text": [
      "Time: 2024-12-29 18:00:00, Temp: 9.46°C\n",
      "Time: 2024-12-29 21:00:00, Temp: 9.69°C\n",
      "Time: 2024-12-30 00:00:00, Temp: 9.69°C\n",
      "Time: 2024-12-30 03:00:00, Temp: 10.43°C\n",
      "Time: 2024-12-30 06:00:00, Temp: 10.37°C\n",
      "Time: 2024-12-30 09:00:00, Temp: 10.68°C\n",
      "Time: 2024-12-30 12:00:00, Temp: 10.54°C\n",
      "Time: 2024-12-30 15:00:00, Temp: 10.95°C\n",
      "Time: 2024-12-30 18:00:00, Temp: 10.49°C\n",
      "Time: 2024-12-30 21:00:00, Temp: 10.09°C\n",
      "Time: 2024-12-31 00:00:00, Temp: 8.8°C\n",
      "Time: 2024-12-31 03:00:00, Temp: 7.75°C\n",
      "Time: 2024-12-31 06:00:00, Temp: 6.66°C\n",
      "Time: 2024-12-31 09:00:00, Temp: 5.36°C\n",
      "Time: 2024-12-31 12:00:00, Temp: 4.63°C\n",
      "Time: 2024-12-31 15:00:00, Temp: 6.34°C\n",
      "Time: 2024-12-31 18:00:00, Temp: 8.5°C\n",
      "Time: 2024-12-31 21:00:00, Temp: 9.12°C\n",
      "Time: 2025-01-01 00:00:00, Temp: 9.54°C\n",
      "Time: 2025-01-01 03:00:00, Temp: 9.36°C\n",
      "Time: 2025-01-01 06:00:00, Temp: 8.17°C\n",
      "Time: 2025-01-01 09:00:00, Temp: 7.12°C\n",
      "Time: 2025-01-01 12:00:00, Temp: 6.35°C\n",
      "Time: 2025-01-01 15:00:00, Temp: 7.71°C\n",
      "Time: 2025-01-01 18:00:00, Temp: 5.8°C\n",
      "Time: 2025-01-01 21:00:00, Temp: 6.24°C\n",
      "Time: 2025-01-02 00:00:00, Temp: 5.32°C\n",
      "Time: 2025-01-02 03:00:00, Temp: 4.62°C\n",
      "Time: 2025-01-02 06:00:00, Temp: 3.34°C\n",
      "Time: 2025-01-02 09:00:00, Temp: 2.18°C\n",
      "Time: 2025-01-02 12:00:00, Temp: 1.34°C\n",
      "Time: 2025-01-02 15:00:00, Temp: 2.13°C\n",
      "Time: 2025-01-02 18:00:00, Temp: 3.95°C\n",
      "Time: 2025-01-02 21:00:00, Temp: 4.18°C\n",
      "Time: 2025-01-03 00:00:00, Temp: 2.76°C\n",
      "Time: 2025-01-03 03:00:00, Temp: 1.8°C\n",
      "Time: 2025-01-03 06:00:00, Temp: 0.9°C\n",
      "Time: 2025-01-03 09:00:00, Temp: 0.32°C\n",
      "Time: 2025-01-03 12:00:00, Temp: -0.03°C\n",
      "Time: 2025-01-03 15:00:00, Temp: 0.8°C\n"
     ]
    }
   ],
   "source": [
    "forecast_url = f'http://api.openweathermap.org/data/2.5/forecast?lat={lat}&lon={lon}'\n",
    "params = {\n",
    "    'appid': api_key,\n",
    "    'units': 'metric' } # Use 'metric' to get temperature in Celsius\n",
    "forecast_response = requests.get(forecast_url, params=params).json()\n",
    "\n",
    "for entry in forecast_response['list']:\n",
    "    print(f\"Time: {entry['dt_txt']}, Temp: {entry['main']['temp']}°C\")"
   ]
  },
  {
   "cell_type": "markdown",
   "id": "f75ab558-7500-40fa-a4aa-93a18053059a",
   "metadata": {},
   "source": [
    "Two calls: one for geocoding, one for forecasts.\n",
    "But with pyowm, because this is a common operation, there is a method that handles the geocoding internally and then fetches the weather forecast in one step.\n",
    "\n",
    "Get the above forecast in a single call using pyowm.\n",
    "\n",
    "Hint: search for \"forecast_at_place\" in the code recipies of the documentation"
   ]
  },
  {
   "cell_type": "code",
   "execution_count": 226,
   "id": "11e3c1a8-260d-467c-8f47-793fd62a239b",
   "metadata": {},
   "outputs": [],
   "source": [
    "#using an open weather map API wrapper to get the weather forcast for Newyork\n",
    "from pyowm.owm import OWM\n",
    "owm = OWM(api_key)\n",
    "weather_mgr = owm.weather_manager()\n",
    "daily_forcast = weather_mgr.forecast_at_place('New York,US', '3h')"
   ]
  },
  {
   "cell_type": "code",
   "execution_count": 228,
   "id": "b7ad616c-fb51-4b57-99f8-c17287ec8c50",
   "metadata": {},
   "outputs": [
    {
     "name": "stdout",
     "output_type": "stream",
     "text": [
      "Time: 2024-12-29 18:00:00+00:00, Temp: 9.55°C\n",
      "Time: 2024-12-29 21:00:00+00:00, Temp: 9.73°C\n",
      "Time: 2024-12-30 00:00:00+00:00, Temp: 9.69°C\n",
      "Time: 2024-12-30 03:00:00+00:00, Temp: 10.43°C\n",
      "Time: 2024-12-30 06:00:00+00:00, Temp: 10.37°C\n",
      "Time: 2024-12-30 09:00:00+00:00, Temp: 10.68°C\n",
      "Time: 2024-12-30 12:00:00+00:00, Temp: 10.54°C\n",
      "Time: 2024-12-30 15:00:00+00:00, Temp: 10.95°C\n",
      "Time: 2024-12-30 18:00:00+00:00, Temp: 10.49°C\n",
      "Time: 2024-12-30 21:00:00+00:00, Temp: 10.09°C\n",
      "Time: 2024-12-31 00:00:00+00:00, Temp: 8.8°C\n",
      "Time: 2024-12-31 03:00:00+00:00, Temp: 7.75°C\n",
      "Time: 2024-12-31 06:00:00+00:00, Temp: 6.66°C\n",
      "Time: 2024-12-31 09:00:00+00:00, Temp: 5.36°C\n",
      "Time: 2024-12-31 12:00:00+00:00, Temp: 4.63°C\n",
      "Time: 2024-12-31 15:00:00+00:00, Temp: 6.34°C\n",
      "Time: 2024-12-31 18:00:00+00:00, Temp: 8.5°C\n",
      "Time: 2024-12-31 21:00:00+00:00, Temp: 9.12°C\n",
      "Time: 2025-01-01 00:00:00+00:00, Temp: 9.54°C\n",
      "Time: 2025-01-01 03:00:00+00:00, Temp: 9.36°C\n",
      "Time: 2025-01-01 06:00:00+00:00, Temp: 8.17°C\n",
      "Time: 2025-01-01 09:00:00+00:00, Temp: 7.12°C\n",
      "Time: 2025-01-01 12:00:00+00:00, Temp: 6.35°C\n",
      "Time: 2025-01-01 15:00:00+00:00, Temp: 7.71°C\n",
      "Time: 2025-01-01 18:00:00+00:00, Temp: 5.8°C\n",
      "Time: 2025-01-01 21:00:00+00:00, Temp: 6.24°C\n",
      "Time: 2025-01-02 00:00:00+00:00, Temp: 5.32°C\n",
      "Time: 2025-01-02 03:00:00+00:00, Temp: 4.62°C\n",
      "Time: 2025-01-02 06:00:00+00:00, Temp: 3.34°C\n",
      "Time: 2025-01-02 09:00:00+00:00, Temp: 2.18°C\n",
      "Time: 2025-01-02 12:00:00+00:00, Temp: 1.34°C\n",
      "Time: 2025-01-02 15:00:00+00:00, Temp: 2.13°C\n",
      "Time: 2025-01-02 18:00:00+00:00, Temp: 3.95°C\n",
      "Time: 2025-01-02 21:00:00+00:00, Temp: 4.18°C\n",
      "Time: 2025-01-03 00:00:00+00:00, Temp: 2.76°C\n",
      "Time: 2025-01-03 03:00:00+00:00, Temp: 1.8°C\n",
      "Time: 2025-01-03 06:00:00+00:00, Temp: 0.9°C\n",
      "Time: 2025-01-03 09:00:00+00:00, Temp: 0.32°C\n",
      "Time: 2025-01-03 12:00:00+00:00, Temp: -0.03°C\n",
      "Time: 2025-01-03 15:00:00+00:00, Temp: 0.8°C\n"
     ]
    }
   ],
   "source": [
    "# Access the weather objects in the forecast\n",
    "for weather in daily_forcast.forecast.weathers:\n",
    "    temp = weather.temperature('celsius')  # Get temperature in Celsius\n",
    "    print(f\"Time: {weather.reference_time('iso')}, Temp: {temp['temp']}°C\")"
   ]
  },
  {
   "cell_type": "markdown",
   "id": "7ab2b0cc-0d16-4da5-be3e-b8466faecca3",
   "metadata": {},
   "source": [
    "## use case 4: Convenience methods\n",
    "\n",
    "Wrappers often offer built-in methods to handle common kinds of tasks related to the APIs, reducing the need for manual calculations.\n",
    "\n",
    "for example converting units (e.g., temperature from Celsius to Fahrenheit) or working with more complex data requires manual conversion when using the raw API."
   ]
  },
  {
   "cell_type": "code",
   "execution_count": 232,
   "id": "c8e68dad-a503-49cf-9c1e-72e9ed1fab3d",
   "metadata": {},
   "outputs": [
    {
     "name": "stdout",
     "output_type": "stream",
     "text": [
      "Temperature in Celsius: 5.21°C, Fahrenheit: 41.378°F\n"
     ]
    }
   ],
   "source": [
    "city = 'London'\n",
    "url = f'http://api.openweathermap.org/data/2.5/weather?q={city}&appid={api_key}'\n",
    "params = {\n",
    "    'units': 'metric' } # Use 'metric' to get temperature in Celsius\n",
    "response = requests.get(url, params = params)\n",
    "data = response.json()\n",
    "temperature_celsius = data['main']['temp']\n",
    "temperature_fahrenheit = (temperature_celsius * 9/5) + 32\n",
    "\n",
    "print(f\"Temperature in Celsius: {temperature_celsius}°C, Fahrenheit: {temperature_fahrenheit}°F\")"
   ]
  },
  {
   "cell_type": "markdown",
   "id": "9b05658c-e9cb-491d-8554-ab4d6dd56e1d",
   "metadata": {},
   "source": [
    "But the pyowm wrapper offers built-in methods to handle these kinds of tasks, reducing the need for manual calculations.\n",
    "Get the temperature both in Celcius and Farenheit using pyowm. Navigate the code recipes to figure out the inbuilt methods for this."
   ]
  },
  {
   "cell_type": "code",
   "execution_count": 246,
   "id": "4695bb83-bc35-4c1b-b390-5ea2027984ef",
   "metadata": {},
   "outputs": [],
   "source": [
    "#using an open weather map API wrapper to get London temperature in both fahrenheit and celcius\n",
    "from pyowm.owm import OWM\n",
    "owm = OWM(api_key)\n",
    "weather_mgr = owm.weather_manager()\n",
    "\n",
    "#get weather details for London\n",
    "London = weather_mgr.weather_at_place(\"London,GB\")\n",
    "London_weather = London.weather\n",
    "\n",
    "#get temperature in celcius and Fahrenheit\n",
    "temp_c = London_weather.temperature(\"celsius\")[\"temp\"]\n",
    "temp_F = London_weather.temperature(\"fahrenheit\")[\"temp\"]"
   ]
  },
  {
   "cell_type": "code",
   "execution_count": 250,
   "id": "3b0be2ad-0ca3-430f-b41c-d6f61eeb26eb",
   "metadata": {},
   "outputs": [
    {
     "ename": "TypeError",
     "evalue": "'float' object is not subscriptable",
     "output_type": "error",
     "traceback": [
      "\u001b[1;31m---------------------------------------------------------------------------\u001b[0m",
      "\u001b[1;31mTypeError\u001b[0m                                 Traceback (most recent call last)",
      "Cell \u001b[1;32mIn[250], line 1\u001b[0m\n\u001b[1;32m----> 1\u001b[0m temp_C \u001b[38;5;241m=\u001b[39m temp[\u001b[38;5;124m\"\u001b[39m\u001b[38;5;124mtemp\u001b[39m\u001b[38;5;124m\"\u001b[39m]\n\u001b[0;32m      2\u001b[0m temp_F \u001b[38;5;241m=\u001b[39m temp_F[\u001b[38;5;124m\"\u001b[39m\u001b[38;5;124mtemp\u001b[39m\u001b[38;5;124m\"\u001b[39m]\n",
      "\u001b[1;31mTypeError\u001b[0m: 'float' object is not subscriptable"
     ]
    }
   ],
   "source": [
    "temp_C = temp[\"temp\"]\n",
    "temp_F = temp_F[\"temp\"]"
   ]
  },
  {
   "cell_type": "code",
   "execution_count": 238,
   "id": "b695b3e6-16dc-455a-8b09-8197d050ec4c",
   "metadata": {},
   "outputs": [
    {
     "name": "stdout",
     "output_type": "stream",
     "text": [
      "Temperature in Celsius: {'temp': 5.21, 'temp_max': 6.54, 'temp_min': 4.45, 'feels_like': 2.36, 'temp_kf': None}°C, Fahrenheit:<bound method Weather.temperature of <pyowm.weatherapi25.weather.Weather - reference_time=2024-12-29 16:25:06+00:00, status=clouds, detailed_status=overcast clouds>>°F\n"
     ]
    }
   ],
   "source": [
    "print(f\"Temperature in Celsius: {temp}°C, Fahrenheit: {temp_F}°F\")"
   ]
  },
  {
   "cell_type": "code",
   "execution_count": 240,
   "id": "e4058797-b9c5-4205-b9d7-3bda76ae9321",
   "metadata": {},
   "outputs": [
    {
     "name": "stdout",
     "output_type": "stream",
     "text": [
      "Temperature in Celsius: {'temp': 5.21, 'temp_max': 6.54, 'temp_min': 4.45, 'feels_like': 2.36, 'temp_kf': None}°C, Fahrenheit: <bound method Weather.temperature of <pyowm.weatherapi25.weather.Weather - reference_time=2024-12-29 16:25:06+00:00, status=clouds, detailed_status=overcast clouds>>°F\n"
     ]
    }
   ],
   "source": [
    "print(f\"Temperature in Celsius: {temp}°C, Fahrenheit: {temp_F}°F\")"
   ]
  },
  {
   "cell_type": "code",
   "execution_count": 242,
   "id": "196fbe8e-3f48-4471-957a-39f372a5caa3",
   "metadata": {},
   "outputs": [
    {
     "data": {
      "text/plain": [
       "{'temp': 5.21,\n",
       " 'temp_max': 6.54,\n",
       " 'temp_min': 4.45,\n",
       " 'feels_like': 2.36,\n",
       " 'temp_kf': None}"
      ]
     },
     "execution_count": 242,
     "metadata": {},
     "output_type": "execute_result"
    }
   ],
   "source": [
    "temp"
   ]
  },
  {
   "cell_type": "code",
   "execution_count": null,
   "id": "3d09a60f-b947-4855-a17c-f47645add02c",
   "metadata": {},
   "outputs": [],
   "source": []
  }
 ],
 "metadata": {
  "kernelspec": {
   "display_name": "Python 3 (ipykernel)",
   "language": "python",
   "name": "python3"
  },
  "language_info": {
   "codemirror_mode": {
    "name": "ipython",
    "version": 3
   },
   "file_extension": ".py",
   "mimetype": "text/x-python",
   "name": "python",
   "nbconvert_exporter": "python",
   "pygments_lexer": "ipython3",
   "version": "3.11.5"
  }
 },
 "nbformat": 4,
 "nbformat_minor": 5
}
